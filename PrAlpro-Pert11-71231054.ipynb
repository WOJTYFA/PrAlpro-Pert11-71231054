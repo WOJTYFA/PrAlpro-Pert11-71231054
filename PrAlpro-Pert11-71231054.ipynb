{
 "cells": [
  {
   "cell_type": "code",
   "execution_count": 2,
   "metadata": {},
   "outputs": [
    {
     "name": "stdout",
     "output_type": "stream",
     "text": [
      "key value item\n",
      "1 10 1\n",
      "2 20 2\n",
      "3 30 3\n",
      "4 40 4\n",
      "5 50 5\n",
      "6 60 6\n"
     ]
    }
   ],
   "source": [
    "#latihan 10.1\n",
    "def dictionary_items(dictionary):\n",
    "    print(\"key\", \"value\", \"item\")\n",
    "    for key, value in dictionary.items():\n",
    "        print(key, value, key)\n",
    "my_dict = {1: 10, 2: 20, 3: 30, 4: 40, 5: 50, 6: 60}\n",
    "dictionary_items(my_dict)"
   ]
  },
  {
   "cell_type": "code",
   "execution_count": 3,
   "metadata": {},
   "outputs": [
    {
     "name": "stdout",
     "output_type": "stream",
     "text": [
      "{'red': '#FF0000', 'green': '#0080000', 'blue': '#0000FF'}\n"
     ]
    }
   ],
   "source": [
    "#latihan 10.2\n",
    "def list_to_dict(list_a, list_b):\n",
    "    mapped_dict = dict(zip(list_a, list_b))\n",
    "    return mapped_dict\n",
    "\n",
    "lista = ['red', 'green', 'blue']\n",
    "listb = ['#FF0000', '#0080000', '#0000FF']\n",
    "result_dict = list_to_dict(lista, listb)\n",
    "print(result_dict)"
   ]
  },
  {
   "cell_type": "code",
   "execution_count": 6,
   "metadata": {},
   "outputs": [
    {
     "name": "stdout",
     "output_type": "stream",
     "text": [
      "{}\n"
     ]
    }
   ],
   "source": [
    "#latihan 10.3\n",
    "def email_masuk(file_nama):\n",
    "    hitung_email = {}\n",
    "    with open(file_nama, 'r') as f:\n",
    "        for line in f:\n",
    "            words = line.split()\n",
    "            if len(words) > 2 and words[0] == 'From' :\n",
    "                email = words[1]\n",
    "                if email in hitung_email:\n",
    "                    hitung_email[email] += 1\n",
    "                else:\n",
    "                    hitung_email[email] = 1\n",
    "    return hitung_email\n",
    "\n",
    "file_nama = input(\" Masukan nama filenya : \")\n",
    "print(email_masuk(file_nama))\n"
   ]
  },
  {
   "cell_type": "code",
   "execution_count": 8,
   "metadata": {},
   "outputs": [
    {
     "name": "stdout",
     "output_type": "stream",
     "text": [
      "{}\n"
     ]
    }
   ],
   "source": [
    "#latihan 10.4\n",
    "def hitung_pesan_emails(file_nama):\n",
    "    hitung_pesan = {}\n",
    "    with open(file_nama, 'r') as f:\n",
    "        for line in f:\n",
    "            words = line.split()\n",
    "            if len(words) > 2 and words[0] == 'from':\n",
    "                email = words[1]\n",
    "                hitung = email.split('@')[1]\n",
    "                if hitung in hitung_pesan: \n",
    "                    hitung_pesan[hitung] += 1\n",
    "                else:\n",
    "                    hitung_pesan[hitung] = 1\n",
    "    return hitung_pesan\n",
    "\n",
    "file_nama = input(\" Masukan nama filenya : \")\n",
    "print(hitung_pesan_emails(file_nama)) "
   ]
  }
 ],
 "metadata": {
  "kernelspec": {
   "display_name": "Python 3",
   "language": "python",
   "name": "python3"
  },
  "language_info": {
   "codemirror_mode": {
    "name": "ipython",
    "version": 3
   },
   "file_extension": ".py",
   "mimetype": "text/x-python",
   "name": "python",
   "nbconvert_exporter": "python",
   "pygments_lexer": "ipython3",
   "version": "3.12.0"
  }
 },
 "nbformat": 4,
 "nbformat_minor": 2
}
